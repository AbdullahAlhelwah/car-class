{
  "metadata": {
    "kernelspec": {
      "name": "python",
      "display_name": "Python (Pyodide)",
      "language": "python"
    },
    "language_info": {
      "codemirror_mode": {
        "name": "python",
        "version": 3
      },
      "file_extension": ".py",
      "mimetype": "text/x-python",
      "name": "python",
      "nbconvert_exporter": "python",
      "pygments_lexer": "ipython3",
      "version": "3.8"
    },
    "colab": {
      "provenance": [],
      "include_colab_link": true
    }
  },
  "nbformat_minor": 0,
  "nbformat": 4,
  "cells": [
    {
      "cell_type": "markdown",
      "metadata": {
        "id": "view-in-github",
        "colab_type": "text"
      },
      "source": [
        "<a href=\"https://colab.research.google.com/github/AbdullahAlhelwah/car-class/blob/main/classes.ipynb\" target=\"_parent\"><img src=\"https://colab.research.google.com/assets/colab-badge.svg\" alt=\"Open In Colab\"/></a>"
      ]
    },
    {
      "cell_type": "markdown",
      "source": [
        "<center>\n",
        "    \n",
        "# Scenario: Car dealership's inventory management system\n",
        "\n",
        "</center>\n"
      ],
      "metadata": {
        "id": "yJakv1302b_0"
      }
    },
    {
      "cell_type": "markdown",
      "source": [
        "You are working on a Python program to simulate a car dealership's inventory management system. The system aims to model cars and their attributes accurately.\n"
      ],
      "metadata": {
        "id": "7Gd45U6q2b_0"
      }
    },
    {
      "cell_type": "markdown",
      "source": [
        "### Task-1. You are tasked with creating a Python program to represent vehicles using a class. Each car should have attributes for maximum speed and mileage.\n"
      ],
      "metadata": {
        "id": "Wd8FnotY2b_1"
      }
    },
    {
      "cell_type": "code",
      "source": [
        "#Type your code here\n",
        "class Car(object):\n",
        "\n",
        "    def __init__(self, maximum_speed, mileage):\n",
        "        self.maximum_speed = maximum_speed\n",
        "        self.mileage = mileage"
      ],
      "metadata": {
        "trusted": true,
        "id": "QVVS5yvk2b_1"
      },
      "outputs": [],
      "execution_count": null
    },
    {
      "cell_type": "markdown",
      "source": [
        "### Task-2. Update the class with the default color for all vehicles,\" white\".\n"
      ],
      "metadata": {
        "id": "JeqsRCXq2b_2"
      }
    },
    {
      "cell_type": "code",
      "source": [
        "#Type your code here\n",
        "class Car(object):\n",
        "    color = \"white\"\n",
        "\n",
        "    def __init__(self, maximum_speed, mileage):\n",
        "        self.maximum_speed = maximum_speed\n",
        "        self.mileage = mileage\n",
        ""
      ],
      "metadata": {
        "trusted": true,
        "id": "S1RAj9zb2b_2"
      },
      "outputs": [],
      "execution_count": null
    },
    {
      "cell_type": "markdown",
      "source": [
        "### Task-3. Additionally, you need to create methods in the Vehicle class to assign seating capacity to a vehicle.\n"
      ],
      "metadata": {
        "id": "c67-2VpB2b_3"
      }
    },
    {
      "cell_type": "code",
      "source": [
        "#Type your code here\n",
        "class Car(object):\n",
        "    color = \"white\"\n",
        "\n",
        "    def __init__(self, maximum_speed, mileage):\n",
        "        self.maximum_speed = maximum_speed\n",
        "        self.mileage = mileage\n",
        "        self.seat_capacity = None\n",
        "\n",
        "    def assign_capacity(self, seat_capacity):\n",
        "        self.seat_capacity = seat_capacity"
      ],
      "metadata": {
        "trusted": true,
        "id": "jVFb7UEG2b_3"
      },
      "outputs": [],
      "execution_count": null
    },
    {
      "cell_type": "markdown",
      "source": [
        "### Task-4. Create a method to display all the properties of an object of the class.\n"
      ],
      "metadata": {
        "id": "QQmsrdz12b_4"
      }
    },
    {
      "cell_type": "code",
      "source": [
        "#Type your code here\n",
        "class Car(object):\n",
        "    color = \"white\"\n",
        "\n",
        "    def __init__(self, maximum_speed, mileage):\n",
        "        self.maximum_speed = maximum_speed\n",
        "        self.mileage = mileage\n",
        "        self.seat_capacity = None\n",
        "\n",
        "    def assign_capacity(self, seat_capacity):\n",
        "        self.seat_capacity = seat_capacity\n",
        "\n",
        "    def show_properties(self):\n",
        "        print(\"Car properties are: \")\n",
        "        print(f\"The maximum speed is {slef.maximum_speed}\")\n",
        "        print(f\"Mileage is {slef.mileage}\")\n",
        "        print(f\"The color is {self.color}\")\n",
        "        print(f\"Seat capcity is {self.seat_capacity}\")"
      ],
      "metadata": {
        "trusted": true,
        "id": "ZTjKANNf2b_5"
      },
      "outputs": [],
      "execution_count": null
    },
    {
      "cell_type": "markdown",
      "source": [
        "### Task-5. Additionally, you need to create two objects of the Vehicle class object that should have a max speed of 200kmph and mileage of 20kmpl with five seating capacities, and another car object should have a max speed of 180kmph and mileage of 25kmpl with four seating capacities.\n"
      ],
      "metadata": {
        "id": "ohE8s3w42b_6"
      }
    },
    {
      "cell_type": "code",
      "source": [
        "#Type your code here\n",
        "car1 = Car(200,20)\n",
        "car1.assign_capacity(5)\n",
        "car2 = Car(180,25)\n",
        "car2.assign_capacity(4)\n",
        "car.show_properties()\n",
        "car2.show_propertie"
      ],
      "metadata": {
        "id": "_NpQrJ7s2b_6"
      },
      "outputs": [],
      "execution_count": null
    },
    {
      "cell_type": "markdown",
      "source": [
        "## Author\n",
        "\n",
        "<a href=\"https://www.linkedin.com/in/joseph-s-50398b136/?utm_medium=Exinfluencer&utm_source=Exinfluencer&utm_content=000026UJ&utm_term=10006555&utm_id=NA-SkillsNetwork-Channel-SkillsNetworkCoursesIBMDeveloperSkillsNetworkPY0101ENSkillsNetwork19487395-2021-01-01\">Joseph Santarcangelo</a>\n",
        "\n",
        "## Other contributors\n",
        "\n",
        "<a href=\"https://www.linkedin.com/in/jiahui-mavis-zhou-a4537814a?utm_medium=Exinfluencer&utm_source=Exinfluencer&utm_content=000026UJ&utm_term=10006555&utm_id=NA-SkillsNetwork-Channel-SkillsNetworkCoursesIBMDeveloperSkillsNetworkPY0101ENSkillsNetwork19487395-2021-01-01\">Mavis Zhou</a>\n",
        "\n",
        "## Change Log\n",
        "\n",
        "| Date (YYYY-MM-DD) | Version | Changed By | Change Description                 |\n",
        "| ----------------- | ------- | ---------- | ---------------------------------- |\n",
        "| 2023-11-02 | 2.3  | Abhishek Gagneja | Updated instructions |\n",
        "| 2023-05-16        | 2.2     |Akansha Yadav | updated lab under maintenance   |\n",
        "| 2022-01-10        | 2.1     | Malika     | Removed the readme for GitShare    |\n",
        "| 2020-08-26        | 2.0     | Lavanya    | Moved lab to course repo in GitLab |\n",
        "|                   |         |            |                                    |\n",
        "|                   |         |            |                                    |\n",
        "\n",
        "<hr/>\n",
        "\n",
        "## <h3 align=\"center\"> © IBM Corporation 2023. All rights reserved. <h3/>\n"
      ],
      "metadata": {
        "id": "rq1OTk242b_7"
      }
    },
    {
      "cell_type": "code",
      "source": [],
      "metadata": {
        "id": "ceD3pwKv2b_8"
      },
      "outputs": [],
      "execution_count": null
    }
  ]
}